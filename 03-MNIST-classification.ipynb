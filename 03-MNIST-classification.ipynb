{
 "cells": [
  {
   "cell_type": "markdown",
   "metadata": {},
   "source": [
    "# Classification on MNIST Handwritten Digits\n",
    "## Introduction\n",
    "In this notebook, we'll run a simple classification neural network on the MNIST dataset. The MNIST dataset is a collection of 28x28 pixel images of handwritten digits from 0 to 9. The dataset is split into a training set of 60,000 images and a test set of 10,000 images. The goal is to classify the images into the correct digit class."
   ]
  },
  {
   "cell_type": "markdown",
   "metadata": {},
   "source": [
    "## 1. Set Up\n",
    "Install and import the necessary libraries."
   ]
  },
  {
   "cell_type": "code",
   "execution_count": null,
   "metadata": {},
   "outputs": [],
   "source": [
    "# Install required libraries\n",
    "\n",
    "#!pip install torch \n",
    "#!pip install torchvision"
   ]
  },
  {
   "cell_type": "code",
   "execution_count": 5,
   "metadata": {},
   "outputs": [],
   "source": [
    "import torch \n",
    "import torchvision \n",
    "\n",
    "from torch import nn, optim\n",
    "from torchvision import transforms \n",
    "from torch.utils.data import DataLoader"
   ]
  },
  {
   "cell_type": "code",
   "execution_count": 6,
   "metadata": {},
   "outputs": [
    {
     "name": "stdout",
     "output_type": "stream",
     "text": [
      "Using device: mps\n"
     ]
    }
   ],
   "source": [
    "# Set the device \n",
    "device = torch.device(\"cuda\" if torch.cuda.is_available() else \"mps\" if torch.backends.mps.is_available() else \"cpu\")\n",
    "print(f\"Using device: {device}\")"
   ]
  },
  {
   "cell_type": "markdown",
   "metadata": {},
   "source": [
    "## 2. Import Data\n",
    "We'll import the data from the torchvision library and create a DataLoader for the training and test sets.<br><br>\n",
    "**Note: MNIST dataset input size is 28x28x1.** "
   ]
  },
  {
   "cell_type": "code",
   "execution_count": 16,
   "metadata": {},
   "outputs": [],
   "source": [
    "# Set image path \n",
    "image_path = './data'\n",
    "\n",
    "# Transform images to tensors\n",
    "transform = transforms.Compose([transforms.ToTensor()])\n",
    "\n",
    "# Download training dataset\n",
    "mnist_train = torchvision.datasets.MNIST(\n",
    "    root=image_path, \n",
    "    train=True, \n",
    "    transform=transform,\n",
    "    download=True)\n",
    "\n",
    "# Download test dataset\n",
    "mnist_test = torchvision.datasets.MNIST(\n",
    "    root=image_path, \n",
    "    train=False, \n",
    "    transform=transform,\n",
    "    download=True)\n",
    "\n",
    "# Set batch size\n",
    "batch_size = 64\n",
    "\n",
    "# Load training dataset\n",
    "train_loader = DataLoader(\n",
    "    dataset=mnist_train, \n",
    "    batch_size=batch_size, \n",
    "    shuffle=True)\n",
    "\n",
    "# Load test dataset\n",
    "test_loader = DataLoader(\n",
    "    dataset=mnist_test, \n",
    "    batch_size=batch_size, \n",
    "    shuffle=False)"
   ]
  },
  {
   "cell_type": "markdown",
   "metadata": {},
   "source": [
    "## 3. Linear Neural Network \n",
    "We'll start by building a simple linear neural network with one hidden layer. "
   ]
  },
  {
   "cell_type": "markdown",
   "metadata": {},
   "source": [
    "### 3.1 Create Two Layer Neural Network"
   ]
  },
  {
   "cell_type": "code",
   "execution_count": 9,
   "metadata": {},
   "outputs": [],
   "source": [
    "class TwoLayerNet(nn.Module):\n",
    "    def __init__(self):\n",
    "        super().__init__()\n",
    "\n",
    "        # Initial the neural network \n",
    "        self.Sequential = nn.Sequential(\n",
    "            nn.Flatten(), # Input: 28x28, Output: 28*28\n",
    "            nn.Linear(28*28, 128), # Input: 28*28, Output: 128\n",
    "            nn.ReLU(),\n",
    "            nn.Linear(128, 10) # Input: 128, Output: 10\n",
    "        )\n",
    "    \n",
    "    def forward(self, x):\n",
    "        output = self.Sequential(x)\n",
    "\n",
    "        return output "
   ]
  },
  {
   "cell_type": "markdown",
   "metadata": {},
   "source": [
    "### 3.2 Train the Model"
   ]
  },
  {
   "cell_type": "code",
   "execution_count": 15,
   "metadata": {},
   "outputs": [
    {
     "name": "stdout",
     "output_type": "stream",
     "text": [
      "Epoch: 0, Accuracy: 0.8697\n",
      "Epoch: 1, Accuracy: 0.9339\n",
      "Epoch: 2, Accuracy: 0.9501\n",
      "Epoch: 3, Accuracy: 0.9597\n",
      "Epoch: 4, Accuracy: 0.9672\n",
      "Epoch: 5, Accuracy: 0.9715\n",
      "Epoch: 6, Accuracy: 0.9749\n",
      "Epoch: 7, Accuracy: 0.9781\n",
      "Epoch: 8, Accuracy: 0.9806\n",
      "Epoch: 9, Accuracy: 0.9822\n"
     ]
    }
   ],
   "source": [
    "# Initialize the model\n",
    "model = TwoLayerNet() \n",
    "\n",
    "# Define the optimizer\n",
    "optimizer = optim.SGD(\n",
    "    params=model.parameters(),\n",
    "    lr=0.01,\n",
    "    momentum=0.9,\n",
    ")\n",
    "\n",
    "# Train the model\n",
    "for epoch in range(10):\n",
    "    accuracy_history = 0  # Track loss\n",
    "\n",
    "    for image, label in train_loader:  # Iterate over the training dataset by batch\n",
    "        pred = model(image)  # Forward pass\n",
    "        loss = nn.functional.cross_entropy(pred, label) # Cross-entropy loss\n",
    "        loss.backward() # Backward pass\n",
    "        optimizer.step() # Update the weights\n",
    "        optimizer.zero_grad() # Reset the gradients\n",
    "        is_correct = (\n",
    "            torch.argmax(pred, dim=1) == label\n",
    "        ).float() # Check if the prediction is correct\n",
    "        accuracy_history += is_correct.sum() # Sum the correct predictions\n",
    "    accuracy_history /= len(mnist_train) # Calculate the accuracy\n",
    "    print(f\"Epoch: {epoch}, Accuracy: {accuracy_history:.4f}\")"
   ]
  },
  {
   "cell_type": "markdown",
   "metadata": {},
   "source": [
    "### 3.3 Evaluate the Model"
   ]
  },
  {
   "cell_type": "code",
   "execution_count": 19,
   "metadata": {},
   "outputs": [
    {
     "name": "stdout",
     "output_type": "stream",
     "text": [
      "Test accuracy: 0.9752\n"
     ]
    }
   ],
   "source": [
    "# Evaluate the model on the test dataset\n",
    "model.eval()  # Set the model to evaluation mode\n",
    "accuracy_history = 0  # Track accuracy\n",
    "\n",
    "with torch.no_grad():  # Disable gradient calculation\n",
    "    for image, label in test_loader:  # Iterate over the test dataset by batch\n",
    "        pred = model(image)  # Forward pass\n",
    "        is_correct = (torch.argmax(pred, dim=1) == label).float()  # Check if the prediction is correct\n",
    "        accuracy_history += is_correct.sum()  # Sum the correct predictions\n",
    "\n",
    "accuracy_history /= len(mnist_test)  # Calculate the accuracy\n",
    "print(f\"Test accuracy: {accuracy_history:.4f}\")"
   ]
  }
 ],
 "metadata": {
  "kernelspec": {
   "display_name": "playground",
   "language": "python",
   "name": "playground"
  },
  "language_info": {
   "codemirror_mode": {
    "name": "ipython",
    "version": 3
   },
   "file_extension": ".py",
   "mimetype": "text/x-python",
   "name": "python",
   "nbconvert_exporter": "python",
   "pygments_lexer": "ipython3",
   "version": "3.12.4"
  }
 },
 "nbformat": 4,
 "nbformat_minor": 2
}
